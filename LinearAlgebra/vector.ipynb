{
 "cells": [
  {
   "cell_type": "code",
   "execution_count": 1,
   "id": "cad0cf70",
   "metadata": {},
   "outputs": [
    {
     "name": "stdout",
     "output_type": "stream",
     "text": [
      "Euclidean distance from the origin: 114.86513831445988\n"
     ]
    }
   ],
   "source": [
    "# distance from origin -> euclidean norm\n",
    "\n",
    "import numpy as np\n",
    "\n",
    "# Define an n-dimensional vector A\n",
    "A = np.array([1, 2, 3, 4, 5,6,7,8,9,10,11,112,12])\n",
    "\n",
    "# Calculate the Euclidean distance from the origin (L2 norm)\n",
    "distance = np.linalg.norm(A)\n",
    "\n",
    "print(\"Euclidean distance from the origin:\", distance)"
   ]
  },
  {
   "cell_type": "code",
   "execution_count": null,
   "id": "3bb85bb6",
   "metadata": {},
   "outputs": [],
   "source": []
  },
  {
   "cell_type": "code",
   "execution_count": null,
   "id": "ef92c94a",
   "metadata": {},
   "outputs": [],
   "source": []
  },
  {
   "cell_type": "code",
   "execution_count": null,
   "id": "fdc49c13",
   "metadata": {},
   "outputs": [],
   "source": []
  },
  {
   "cell_type": "code",
   "execution_count": null,
   "id": "a0ddf65b",
   "metadata": {},
   "outputs": [],
   "source": []
  },
  {
   "cell_type": "code",
   "execution_count": null,
   "id": "2d563bfc",
   "metadata": {},
   "outputs": [],
   "source": []
  }
 ],
 "metadata": {
  "kernelspec": {
   "display_name": "Python 3",
   "language": "python",
   "name": "python3"
  },
  "language_info": {
   "codemirror_mode": {
    "name": "ipython",
    "version": 3
   },
   "file_extension": ".py",
   "mimetype": "text/x-python",
   "name": "python",
   "nbconvert_exporter": "python",
   "pygments_lexer": "ipython3",
   "version": "3.9.9"
  }
 },
 "nbformat": 4,
 "nbformat_minor": 5
}
